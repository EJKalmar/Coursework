{
 "cells": [
  {
   "cell_type": "markdown",
   "metadata": {},
   "source": [
    "# CSC421 Assignment 4 - Part II Hidden Markov Models (5 points) #\n",
    "### Author: George Tzanetakis \n",
    "\n",
    "This notebook is based on the supporting material for topics covered in **Chapter 15 Probabilistic Reasoning over Time** from the book *Artificial Intelligence: A Modern Approach.* \n",
    "\n",
    "This part relies on the provided notebook code probability.ipynb, viterbi.ipynb as well as the notebook for Markov Chains and HMMs that is under Resources and was presented in class (this notebook requires the hmmlearn Python package). \n",
    "\n",
    "```\n",
    "Misunderstanding of probability may be the greatest of all impediments\n",
    "to scientific literacy.\n",
    "\n",
    "Gould, Stephen Jay\n",
    "```\n",
    "\n"
   ]
  },
  {
   "cell_type": "markdown",
   "metadata": {},
   "source": [
    "## Introduction \n",
    "\n",
    "Hidden Markov Models are probabilistic models that capture uncertainty over time. In this assignment you will become familiar with the underlying concepts by using two different implementations of HMMs - one based on hmmlearn and the other provided by the book authors. "
   ]
  },
  {
   "cell_type": "markdown",
   "metadata": {},
   "source": [
    "## Question 4.2A (Minimum) CSC421 -  (1 point, CSC581C - 0 points) \n",
    "\n",
    "Use the umbrella HMM described by the book and implemented in the probability.ipynb notebook with the code in the Markov Chain and HMM notebook. Use the hmmlearn version rather than the one that is implemented from \"scratch\". Generate 30 random samples and display with characters both the hidden states and observations. More specifically change the state2color and obs2color functions to display characters instead of colors. Use R and S for a rainy day and a not rainy (sunny) day and u and underscore(_) for the umbrella. So for example: \n",
    "\n",
    "Ru,Ru,R_,S_,Su \n",
    "Would correspond to: \n",
    "```\n",
    "Day1: Rainy with umbrella \n",
    "Day2: Rainy with umbrella \n",
    "Day3: Rainy with no umbrella \n",
    "Day4: Sunny with no umbrella \n",
    "Day5: Sunny with umbrella \n",
    "```"
   ]
  },
  {
   "cell_type": "code",
   "execution_count": 187,
   "metadata": {},
   "outputs": [
    {
     "name": "stdout",
     "output_type": "stream",
     "text": [
      "Ru, Ru, Ru, Ru, Ru, Ru, Ru, S_, Ru, S_, Ru, Ru, R_, S_, S_, Su, S_, Ru, Su, Ru, R_, Ru, Ru, R_, Ru, S_, S_, S_, S_, Ru\n"
     ]
    }
   ],
   "source": [
    "%matplotlib inline \n",
    "import matplotlib.pyplot as plt\n",
    "from scipy import stats\n",
    "import numpy as np\n",
    "from hmmlearn import hmm \n",
    "\n",
    "transmat = np.array([[0.7, 0.3], \n",
    "                    [0.3, 0.7]])\n",
    "\n",
    "start_prob = np.array([1.0, 0.0])\n",
    "\n",
    "emission_probs = np.array([[0.9,0.1], \n",
    "                           [0.2,0.8]])\n",
    "\n",
    "model = hmm.MultinomialHMM(n_components=2)\n",
    "model.startprob_ = start_prob \n",
    "model.transmat_ = transmat \n",
    "model.emissionprob_ = emission_probs\n",
    "\n",
    "# sample the model - X is the observed values \n",
    "# and Z is the \"hidden\" states \n",
    "X, Z = model.sample(30)\n",
    "\n",
    "# we have to re-define state2color and obj2color as the hmm-learn \n",
    "# package just outputs numbers for the states \n",
    "state2color = {} \n",
    "state2color[0] = 'R'\n",
    "state2color[1] = 'S'\n",
    "weather = [state2color[x] for x in Z]\n",
    "\n",
    "obs2color = {} \n",
    "obs2color[0] = 'u'\n",
    "obs2color[1] = '_'\n",
    "samples = [item for sublist in X for item in sublist]\n",
    "umbrella = [obs2color[x] for x in samples]\n",
    "\n",
    "for i,w in enumerate(weather):\n",
    "    weather[i] = w + umbrella[i]\n",
    "\n",
    "print(', '.join(weather))"
   ]
  },
  {
   "cell_type": "markdown",
   "metadata": {},
   "source": [
    "## Question 4.2B (Minimum) (CSC421 - 1 point, CSC581C - 0 point) \n",
    "\n",
    "\n",
    "Express the weather example in terms of a transition and sensor model following the conventions of the HMM implementation provided in probability.ipynb from the AIMA authors. The implementation of HMMs in the AIMA notebook is limited and only supports a sensor model with a binary variable. Convert the 4 sky colors to a binary variable as follows (you can think of it as blue sky (True or False): \n",
    "\n",
    "```\n",
    "[0.6, 0.3, 0.1, 0.0] will become ]0.9, 0.1] \n",
    "amd \n",
    "[0.0, 0.1, 0.4, 0.5] will become [0.1, 0.9] \n",
    "```\n",
    "\n",
    "Suppose you have the following evidence for Blue Sky: \n",
    "```\n",
    "evidence = [True, False, False, True, True]\n",
    "```\n",
    "\n",
    "What is the maximum likelihood sequence of hidden states (sunny or cloudy) for this evidence? \n",
    "Calculate and display the answer using the viterbi algorithm from viterbi.ipynb. \n"
   ]
  },
  {
   "cell_type": "code",
   "execution_count": 188,
   "metadata": {
    "scrolled": true
   },
   "outputs": [
    {
     "name": "stdout",
     "output_type": "stream",
     "text": [
      "[1, 0, 0, 1, 1] [0.8804, 0.1585, 0.1141, 0.0308, 0.0194] \n",
      "\n",
      "Maximum likelihood Sequence\n",
      "╒════╤════════════╤═══════════════╕\n",
      "│    │ Sequence   │   Probability │\n",
      "╞════╪════════════╪═══════════════╡\n",
      "│  1 │ Sunny      │        0.8804 │\n",
      "├────┼────────────┼───────────────┤\n",
      "│  2 │ Cloudy     │        0.1585 │\n",
      "├────┼────────────┼───────────────┤\n",
      "│  3 │ Cloudy     │        0.1141 │\n",
      "├────┼────────────┼───────────────┤\n",
      "│  4 │ Sunny      │        0.0308 │\n",
      "├────┼────────────┼───────────────┤\n",
      "│  5 │ Sunny      │        0.0194 │\n",
      "╘════╧════════════╧═══════════════╛\n"
     ]
    }
   ],
   "source": [
    "from probability import*\n",
    "from tabulate import tabulate\n",
    "\n",
    "weather_transition_model = [[0.7, 0.3], [0.2, 0.8]]\n",
    "weather_sensor_model = [[0.9, 0.1], [0.1, 0.9]]\n",
    "weather_hmm = HiddenMarkovModel(weather_transition_model, weather_sensor_model)\n",
    "\n",
    "weather_evidence = [True, False, False, True, True]\n",
    "sequence, probabilities = rounder(viterbi(weather_hmm, weather_evidence))\n",
    "\n",
    "print(sequence, probabilities, '\\n')\n",
    "\n",
    "for i,w in enumerate(sequence):\n",
    "    if w == 1: \n",
    "        sequence[i] = 'Sunny'\n",
    "    else: \n",
    "        sequence[i] = 'Cloudy'\n",
    "\n",
    "Headers = ['','Sequence', 'Probability']\n",
    "Data = [['1', sequence[0], probabilities[0]],\n",
    "        ['2', sequence[1], probabilities[1]],\n",
    "        ['3', sequence[2], probabilities[2]],\n",
    "        ['4', sequence[3], probabilities[3]],\n",
    "        ['5', sequence[4], probabilities[4]]       \n",
    "       ]\n",
    "\n",
    "print('Maximum likelihood Sequence')\n",
    "print(tabulate(Data,Headers,tablefmt=\"fancy_grid\", numalign = \"right\"))"
   ]
  },
  {
   "cell_type": "markdown",
   "metadata": {},
   "source": [
    "# Question 2C (Expected) 1 point \n",
    "\n",
    "Consider the umbrella HMM implemented using hmmlearn as you did in question 4.2A. Generate 1000 samples i.e you will have a sequence of 1000 states and corresponding sequence of 10000 observations. One way to view this data is to consider it as a classification problem where your feature is whether there is an umbrella or not and your predicted class is whether it is rainy or not. \n",
    "\n",
    "Write a function called classification_accuracy that takes as input two lists of states and returns the number of states that are the same in both lists as a percentage. \n",
    "\n",
    "Now consider the sequence of states you generated as ground truth. Using the specified umbrella HMM predict what sequence of states is the most likelily to have generated the generated sequence of observations. This is similar to the visual comparison of the original and predicted states in the provided notebook. Here we quantify this. \n",
    "\n",
    "What is the classification accuracy in this case? \n",
    "\n",
    "Now consider a new HMM in which the transition model for the umbrella example has 0.5 for all probability values. \n",
    "Effectively this disregards any temporal dependenices and each time step is decided independently. In fact it corresponds to a Naive Bayes classifier with a single feature which is whether umbrella is true or false. \n",
    "\n",
    "What is the classification accuracy in this case? \n"
   ]
  },
  {
   "cell_type": "code",
   "execution_count": 189,
   "metadata": {
    "scrolled": true
   },
   "outputs": [
    {
     "name": "stdout",
     "output_type": "stream",
     "text": [
      "Case 1: 82.20% accuracy.\n",
      "Case 2: 78.90% accuracy.\n"
     ]
    }
   ],
   "source": [
    "def classification_accuracy (list1, list2):\n",
    "    if len(list1) != len(list2): return 'Error: lists are different lengths' \n",
    "    length = len(list1)\n",
    "    counter = 0\n",
    "    for i,w in enumerate(list1):\n",
    "        if w == list2[i]:\n",
    "            counter += 1\n",
    "        #print(w, list2[i], counter)\n",
    "    return counter/length\n",
    "\n",
    "trans_model_1 = [[0.7, 0.3], [0.3, 0.7]]\n",
    "trans_model_2 = [[0.5, 0.5], [0.5, 0.5]]\n",
    "sens_model_1 = [[0.9, 0.1], [0.2, 0.8]]\n",
    "\n",
    "model.transmat_ = trans_model_1\n",
    "X, Z = model.sample(1000)\n",
    "samples = [item for sublist in X for item in sublist]\n",
    "for i, w in enumerate(samples):\n",
    "    if w == 1: samples[i] = True\n",
    "    else: samples[i] = False \n",
    "weather_hmm = HiddenMarkovModel(trans_model_1, sens_model_1)\n",
    "sequence, probabilities = rounder(viterbi(weather_hmm, samples))\n",
    "print('Case 1: {:.2f}% accuracy.'.format(classification_accuracy(Z, sequence)*100))\n",
    "\n",
    "\n",
    "model.transmat_ = trans_model_2\n",
    "X, Z = model.sample(1000)\n",
    "samples = [item for sublist in X for item in sublist]\n",
    "for i, w in enumerate(samples):\n",
    "    if w == 1: samples[i] = True\n",
    "    else: samples[i] = False \n",
    "weather_hmm = HiddenMarkovModel(trans_model_2, sens_model_1)\n",
    "sequence, probabilities = rounder(viterbi(weather_hmm, samples))\n",
    "print('Case 2: {:.2f}% accuracy.'.format(classification_accuracy(Z, sequence)*100))\n",
    "\n",
    "#classification accuracies are very similar because the transition model does not affect\n",
    "    #classification of hidden state from observed state."
   ]
  },
  {
   "cell_type": "markdown",
   "metadata": {},
   "source": [
    "# QUESTION 2D (Expected ) 1 point"
   ]
  },
  {
   "cell_type": "markdown",
   "metadata": {},
   "source": [
    "Modify the code provided in the Markov Chain and HMM notebook so that innstead of 4 sky colors as the sensor model a continuous single Gauassian distribution is used. For sunny days the Gaussian distribution should have a mean of 20 degrees with a standard deviation of 5 and for cloudy days the Gauassian distribution should have a mean of 14 degrees with a standard deviation of 3. Show 20 generates samples using characters. \n",
    "\n",
    "\n",
    "C12,C15,S21,S22 \n",
    "Would correspond to: \n",
    "```\n",
    "Day1: Cloudy and 12 \n",
    "Day2: Cloudy and 15 \n",
    "Day3: Sunny and 21   \n",
    "Day4: Sunny and 22\n",
    "```\n",
    "\n",
    "Do a month and year visualization of the temperature using the Plasma colormap (make sure you normalize the temperature values first): \n",
    "\n",
    "https://matplotlib.org/3.2.0/tutorials/colors/colormaps.html"
   ]
  },
  {
   "cell_type": "code",
   "execution_count": 190,
   "metadata": {
    "scrolled": true
   },
   "outputs": [
    {
     "name": "stdout",
     "output_type": "stream",
     "text": [
      "S18, S23, S17, S23, C15, C10, C13, C14, C13, C18, C16, C15, C17, C14, C14, C12, C12, S20, S21, C14\n"
     ]
    },
    {
     "data": {
      "image/png": "[encoded data removed]",
      "text/plain": [
       "<Figure size 864x72 with 1 Axes>"
      ]
     },
     "metadata": {
      "needs_background": "light"
     },
     "output_type": "display_data"
    },
    {
     "data": {
      "image/png": "[encoded data removed]",
      "text/plain": [
       "<Figure size 864x72 with 1 Axes>"
      ]
     },
     "metadata": {
      "needs_background": "light"
     },
     "output_type": "display_data"
    }
   ],
   "source": [
    "transmat = np.array([[0.7, 0.3], \n",
    "                    [0.2, 0.8]])\n",
    "\n",
    "start_prob = np.array([1.0, 0.0])\n",
    "\n",
    "model = hmm.GaussianHMM(n_components=2)\n",
    "model.startprob_ = start_prob \n",
    "model.transmat_ = transmat \n",
    "model.means_ = np.array([[20],[14]])\n",
    "model.covars_ = np.array([[5],[3]])\n",
    "\n",
    "X, Z = model.sample(20)\n",
    "\n",
    "state2color = {} \n",
    "state2color[0] = 'S'\n",
    "state2color[1] = 'C'\n",
    "weather = [state2color[x] for x in Z]\n",
    "\n",
    "degrees = [item for sublist in X for item in sublist]\n",
    "\n",
    "combined_weather = [0]*len(weather)\n",
    "for i,w in enumerate(weather):\n",
    "    combined_weather[i] = w + str(int(degrees[i]))\n",
    "\n",
    "print(', '.join(combined_weather))\n",
    "\n",
    "X, Z = model.sample(31)\n",
    "degrees = [item for sublist in X for item in sublist]\n",
    "x = np.arange(len(degrees))\n",
    "y = np.ones(len(degrees))\n",
    "degrees = normalize(degrees)\n",
    "cmap=plt.cm.get_cmap('plasma')\n",
    "colors = [cmap.colors[int(256*len(degrees)/2*x)] for x in degrees]\n",
    "plt.figure(figsize=(12,1))\n",
    "plt.title('Monthly temperature variation')\n",
    "plt.bar(x,y, color=colors, width=1)\n",
    "\n",
    "\n",
    "X, Z = model.sample(365)\n",
    "degrees = [item for sublist in X for item in sublist]\n",
    "x = np.arange(len(degrees))\n",
    "y = np.ones(len(degrees))\n",
    "degrees = normalize(degrees)\n",
    "cmap=plt.cm.get_cmap('plasma')\n",
    "colors = [cmap.colors[int(256*len(degrees)/2*x)] for x in degrees]\n",
    "plt.figure(figsize=(12,1))\n",
    "plt.title('Yearly temperature variation')\n",
    "plt.bar(x,y, color=colors, width=1);"
   ]
  },
  {
   "cell_type": "markdown",
   "metadata": {},
   "source": [
    "# QUESTION 2E (Advanced) 1 point \n",
    "\n",
    "\n",
    "Show how you can learn the HMM for the continuous random variable case. Use 10000 samples \n",
    "generated using the code you wrote for the previous question. \n",
    "\n",
    "The learn the parameters of an HMM using a Gaussian HMM: \n",
    "https://hmmlearn.readthedocs.io/en/latest/api.html#hmmlearn.hmm.GaussianHMM\n",
    "\n",
    "\n",
    "Compare the original transition and sensor model with the estimated transition and sensor model similarly to what was done for the multinomial HMM with the discrete sensor model. "
   ]
  },
  {
   "cell_type": "code",
   "execution_count": 214,
   "metadata": {
    "scrolled": true
   },
   "outputs": [
    {
     "name": "stdout",
     "output_type": "stream",
     "text": [
      "Transition matrix\n",
      "Estimated model:\n",
      "[[0.69921079 0.30078921]\n",
      " [0.20716557 0.79283443]]\n",
      "Original model:\n",
      "[[0.7 0.3]\n",
      " [0.2 0.8]]\n",
      "\n",
      "Mean\n",
      "Estimated model:\n",
      "[[19.91391243]\n",
      " [13.94711844]]\n",
      "Original model:\n",
      "[[20]\n",
      " [14]]\n",
      "\n",
      "Standard deviation\n",
      "Estimated model:\n",
      "[[[5.36822097]]\n",
      "\n",
      " [[3.00930472]]]\n",
      "Original model:\n",
      "[[[5]]\n",
      "\n",
      " [[3]]]\n"
     ]
    }
   ],
   "source": [
    "transmat = np.array([[0.7, 0.3], \n",
    "                    [0.2, 0.8]])\n",
    "\n",
    "start_prob = np.array([1.0, 0.0])\n",
    "\n",
    "model = hmm.GaussianHMM(n_components=2,algorithm = 'viterbi')\n",
    "model.startprob_ = start_prob \n",
    "model.transmat_ = transmat \n",
    "model.means_ = np.array([[20],[14]])\n",
    "model.covars_ = np.array([[5],[3]])\n",
    "\n",
    "X,Z = model.sample(10000)\n",
    "\n",
    "estimated_model = hmm.GaussianHMM(n_components=2, n_iter=10000).fit(X)\n",
    "\n",
    "print(\"Transition matrix\")\n",
    "print(\"Estimated model:\")\n",
    "print(estimated_model.transmat_)\n",
    "print(\"Original model:\")\n",
    "print(model.transmat_)\n",
    "\n",
    "print(\"\\nMean\")\n",
    "print(\"Estimated model:\")\n",
    "print(estimated_model.means_)\n",
    "print(\"Original model:\")\n",
    "print(model.means_)\n",
    "\n",
    "print(\"\\nStandard deviation\")\n",
    "print(\"Estimated model:\")\n",
    "print(estimated_model.covars_)\n",
    "print(\"Original model:\")\n",
    "print(model.covars_)"
   ]
  }
 ],
 "metadata": {
  "kernelspec": {
   "display_name": "Python 3",
   "language": "python",
   "name": "python3"
  },
  "language_info": {
   "codemirror_mode": {
    "name": "ipython",
    "version": 3
   },
   "file_extension": ".py",
   "mimetype": "text/x-python",
   "name": "python",
   "nbconvert_exporter": "python",
   "pygments_lexer": "ipython3",
   "version": "3.9.0"
  }
 },
 "nbformat": 4,
 "nbformat_minor": 1
}
