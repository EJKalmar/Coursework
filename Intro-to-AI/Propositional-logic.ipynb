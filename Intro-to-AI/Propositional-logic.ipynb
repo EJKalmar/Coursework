{
 "cells": [
  {
   "cell_type": "markdown",
   "metadata": {},
   "source": [
    "# CSC421 Assignment 2 - Part I  Propositional Logic (5 points) #\n",
    "### Author: George Tzanetakis \n",
    "\n",
    "This notebook is based on the supporting material for topics covered in **Chapter 7 - Logical Agents** from the book *Artificial Intelligence: A Modern Approach.* You can consult and modify the code provided in logic.py and logic.ipynb for completing the assignment questions. This part does NOT rely on the provided code so you can complete it just using basic Python. \n",
    "\n",
    "\n",
    "```\n",
    "Birds can fly, unless they are penguins and ostriches, or if they happen \n",
    "to be dead, or have broken wings, or are confined to cages, or have their \n",
    "feet stuck in cement, or have undergone experiences so dreadful as to render \n",
    "them psychologically incapable of flight \n",
    "\n",
    "Marvin Minsky \n",
    "```"
   ]
  },
  {
   "cell_type": "markdown",
   "metadata": {},
   "source": [
    "# Introduction - Parsing and evaluating prefix logic expressions  \n",
    "\n",
    "In this assignment your task is to incrementally create a parser and evaluator for prefix logic expressions as well as implement simple model checking. **NOTE THAT THE GRADING IN THIS ASSIGNMENT IS DIFFERENT FOR GRADUATE STUDENTS AND THEY HAVE TO DO EXTRA WORK FOR FULL MARKS**\n"
   ]
  },
  {
   "cell_type": "markdown",
   "metadata": {},
   "source": [
    "# Question 1A (Minimum) CSC421 -  (1 point, CSC581C - 0 points) \n",
    "\n",
    "Your first task will be to write a simple evaluator of prefix logic expressions with constants. In prefix notation the operator precedes the operands and no operands are required. For example 5+3 in prefix notation is written + 5 3 or 5 * 2 + 3 would be written + * 5 2 3 or + * 5 2 * 3 4 is equivalent to (5 * 2) + (3 * 4). "
   ]
  },
  {
   "cell_type": "markdown",
   "metadata": {},
   "source": [
    "As a first step we will consider very simple expressions with one operator and two constant operands. We will use 0 for false and 1 for true. The following logical connectives should be implemented (see Figure 7.8 in your book) (notice that for now there is no negation symbol ~): \n",
    "\n",
    "1. &    (and), \n",
    "3. |    (or), \n",
    "4. =>   (implication) \n",
    "5. <=>  (biconditional) \n",
    "\n",
    "Example expressions: \n",
    "```\n",
    "& 1 0  \n",
    "=> 0 1 \n",
    "<=> 1 1 \n",
    "```\n",
    "\n",
    "Your function should take as input a string with the prefix expression and return the result of evaluating the expression (basically a 1 for true and 0 for false). You can split a string to a list using .split[' ']. For this part of the assignment you only evaluate expressions with two constant operands i.e no nested/recursive expressions. "
   ]
  },
  {
   "cell_type": "code",
   "execution_count": 1,
   "metadata": {},
   "outputs": [
    {
     "name": "stdout",
     "output_type": "stream",
     "text": [
      "['&', '1', '0']\n"
     ]
    }
   ],
   "source": [
    "a = '& 1 0'\n",
    "print(a.split(' '))"
   ]
  },
  {
   "cell_type": "code",
   "execution_count": 2,
   "metadata": {},
   "outputs": [
    {
     "name": "stdout",
     "output_type": "stream",
     "text": [
      "0\n",
      "1\n",
      "1\n"
     ]
    }
   ],
   "source": [
    "def simple_eval(string):\n",
    "    operator,a,b = string.split(' ');\n",
    "    if a=='1':\n",
    "        a=1;\n",
    "    else:\n",
    "        a=0;\n",
    "    if b=='1':\n",
    "        b=1\n",
    "    else:\n",
    "        b=0;\n",
    "    if operator == ('&'):\n",
    "        return a&b\n",
    "    elif operator == ('|'):\n",
    "        return a | b\n",
    "    elif operator == ('=>'):\n",
    "        if a&(not b):\n",
    "            return 0\n",
    "        else:\n",
    "            return 1\n",
    "    elif operator == ('<=>'):\n",
    "        if a==b: return 1\n",
    "        else: return 0\n",
    "    return 'error'\n",
    "\n",
    "string1 = '& 1 0'\n",
    "string2 = '=> 0 1'\n",
    "string3 = '<=> 1 1'\n",
    "\n",
    "print(simple_eval(string1))\n",
    "print(simple_eval(string2))\n",
    "print(simple_eval(string3))"
   ]
  },
  {
   "cell_type": "markdown",
   "metadata": {},
   "source": [
    "# Question 1B (Minimum) (CSC421 - 1 point, CSC581C - 0 point) \n",
    "\n",
    "Your next task is to implement variables and bindings for your propositional logic evaluator. In this version in addition to constants (0 and 1) you also can have variables which are strings with associated values provided in a dictionary. You still only consider two operands and one operator (no nesting). For example in the code below \n",
    "the three expressions are equivalent. Your function should take as arguments the expression to be evaluated as a string and the dictionary with the variable bindings. In addition you need to add the ~ (not) operator. To do so for each variable in the dictionary add a not version. For example if 'a' in the dictionary has a value of 1 the '~a' in the dictionary should have a value of 0. Notice that the not symbol is part of the string and NOT separated by a space. \n",
    "\n"
   ]
  },
  {
   "cell_type": "code",
   "execution_count": 3,
   "metadata": {},
   "outputs": [
    {
     "name": "stdout",
     "output_type": "stream",
     "text": [
      "{'foo': 0, 'b': 1}\n"
     ]
    }
   ],
   "source": [
    "d = {'foo': 0, 'b': 1}\n",
    "print(d)\n",
    "expr1 = '& 0 1'\n",
    "expr2 = '& foo 1'\n",
    "expr3 = '& foo ~b'"
   ]
  },
  {
   "cell_type": "code",
   "execution_count": 4,
   "metadata": {
    "scrolled": true
   },
   "outputs": [
    {
     "name": "stdout",
     "output_type": "stream",
     "text": [
      "0\n",
      "0\n",
      "0\n",
      "{'foo': 0, 'b': 1, '`foo': 1, '`b': 0}\n"
     ]
    }
   ],
   "source": [
    "def dict_eval(string,d):\n",
    "    #add negations for each dictionary entry\n",
    "    for key in list(d):\n",
    "        if key[0]!='`':\n",
    "            value=d[key];\n",
    "            s='`'+key;\n",
    "            d[s]=abs(value-1);\n",
    "    operator,a,b = string.split(' ');\n",
    "    if a=='1' or a in d and d[a]==1:\n",
    "        a=1;\n",
    "    else:\n",
    "        a=0;\n",
    "    if b=='1' or b in d and d[b]==1:\n",
    "        b=1\n",
    "    else:\n",
    "        b=0;\n",
    "    if operator == ('&'):\n",
    "        return a&b\n",
    "    elif operator == ('|'):\n",
    "        return a | b\n",
    "    elif operator == ('=>'):\n",
    "        if a&(not b):\n",
    "            return 0\n",
    "        else:\n",
    "            return 1\n",
    "    elif operator == ('<=>'):\n",
    "        if a==b: return 1\n",
    "        else: return 0\n",
    "    return 'error'\n",
    "\n",
    "print(dict_eval(expr1,d))\n",
    "print(dict_eval(expr2,d))\n",
    "print(dict_eval(expr3,d))\n",
    "print (d)"
   ]
  },
  {
   "cell_type": "markdown",
   "metadata": {},
   "source": [
    "# Question 1C (Expected) 1 point \n",
    "\n",
    "\n",
    "The following code is a recursive evaluator for prefix arithmetic expressions. It assumes that there are always two operands either an integer or a prefix expression starting with an operator (addition or multiplication). It is a good idea to go through this function carefully by hand to understand how the recursion works. \n",
    "\n",
    "Informed by your understanding of the arithmetic recursive_eval function your task is to write function to implement a recursive prefix logic evaluator. Your evaluator should also support variables bindings using a dictionary as in the previous question. \n",
    "\n",
    "Example expressions: \n",
    "```\n",
    "& 1 & 1 a   \n",
    "=> 0 & b ~alice  \n",
    "<=> foo 1 \n",
    "```"
   ]
  },
  {
   "cell_type": "code",
   "execution_count": 5,
   "metadata": {},
   "outputs": [
    {
     "name": "stdout",
     "output_type": "stream",
     "text": [
      "1\n",
      "3\n",
      "7\n",
      "28\n"
     ]
    }
   ],
   "source": [
    "def recursive_eval(l):\n",
    "    head, tail = l[0], l[1:]\n",
    "    if head in ['+', '*']: \n",
    "        val1, tail = recursive_eval(tail)\n",
    "        val2, tail = recursive_eval(tail)\n",
    "        if head == '+': \n",
    "            return (int(val1)+int(val2), tail)\n",
    "        elif head == '*':  \n",
    "            return (int(val1)*int(val2), tail)\n",
    "    # operator is a number \n",
    "    else:  \n",
    "        return (int(head),tail)\n",
    "\n",
    "def prefix_eval(input_str): \n",
    "    input_list = input_str.split(' ')\n",
    "    res, tail = recursive_eval(input_list)\n",
    "    return res\n",
    "\n",
    "print(prefix_eval('1'))\n",
    "print(prefix_eval('+ 1 2'))\n",
    "print(prefix_eval('+ 1 * 2 3'))\n",
    "print(prefix_eval('+ * 5 2 * 3 + 1 5'))"
   ]
  },
  {
   "cell_type": "code",
   "execution_count": 176,
   "metadata": {
    "scrolled": true
   },
   "outputs": [
    {
     "name": "stdout",
     "output_type": "stream",
     "text": [
      "{'alice': 1, 'foo': 0, 'b': 1, 'a': 0, '`alice': 0, '`foo': 1, '`b': 0, '`a': 1}\n",
      "0\n",
      "1\n",
      "0\n"
     ]
    }
   ],
   "source": [
    "def recursive_eval(l,d):\n",
    "    # l = input list, d = dictionary\n",
    "    head,tail = l[0], l[1:];\n",
    "    if head in ['&','|','=>','<=>','~']:\n",
    "        a,tail=recursive_eval(tail,d)\n",
    "        if head == ('~'):\n",
    "            return (not a), tail\n",
    "        b,tail=recursive_eval(tail,d)  \n",
    "        if head == ('&'):\n",
    "            return a&b,tail\n",
    "        elif head == ('|'):\n",
    "            return a | b,tail\n",
    "        elif head == ('=>'):\n",
    "            if a&(not b):\n",
    "                return 0,tail\n",
    "            else:\n",
    "                return 1,tail\n",
    "        elif head == ('<=>'):\n",
    "            if a==b: return 1,tail\n",
    "            else: return 0,tail\n",
    "    else:\n",
    "        if head=='1' or head in d and d[head]==1:\n",
    "            return 1,tail\n",
    "        else:\n",
    "            return 0,tail\n",
    "    return 'error'\n",
    "\n",
    "\n",
    "def prefix_eval(input_str,d):\n",
    "    if not isinstance(input_str, Expr): input_list = input_str.split(' ')\n",
    "    else: input_list = input_str;\n",
    "    res, tail = recursive_eval(input_list,d)\n",
    "    return res\n",
    "\n",
    "expr1 = '& 1 & 1 a'   \n",
    "expr2 = '=> 0 & b ~alice'  \n",
    "expr3 = '<=> foo 1'\n",
    "d = {'alice': 1, 'foo': 0, 'b': 1, 'a': 0}\n",
    "\n",
    "for key in list(d):\n",
    "        if key[0]!='`':\n",
    "            value=d[key];\n",
    "            s='`'+key;\n",
    "            d[s]=abs(value-1);\n",
    "\n",
    "print(d)\n",
    "print(prefix_eval(expr1,d))\n",
    "print(prefix_eval(expr2,d))\n",
    "print(prefix_eval(expr3,d))"
   ]
  },
  {
   "cell_type": "markdown",
   "metadata": {},
   "source": [
    "# QUESTION 1D (EXPECTED) 1 point"
   ]
  },
  {
   "cell_type": "markdown",
   "metadata": {},
   "source": [
    "\n",
    "Using the recursive prefix evaluator you defined in the previous question \n",
    "answer the following question (you will need to convert the exressions below \n",
    "to prefix). You can use multiple string assignments to assemble more complicated \n",
    "sentences into one big string: \n",
    "\n",
    "\n",
    "Let A be the formula: \n",
    "\n",
    "\\begin{equation} \n",
    "  (( p_{1} \\rightarrow (p2 \\land p_{3})) \\land ((\\neg p_{1})\n",
    "  \\rightarrow (p_{3} \\land p_{4})))\n",
    "\\end{equation} \n",
    "\n",
    "Let B be the formula: \n",
    "\n",
    "\\begin{equation} \n",
    "  (( p_{3} \\rightarrow (\\neg p_{6})) \\land ((\\neg\n",
    "  p_{3}) \\rightarrow (p_{4} \\rightarrow p_{1})))  \n",
    "\\end{equation} \n",
    "\n",
    "Let C be the formula: \n",
    "\n",
    "\\begin{equation} \n",
    "  ((\\neg(p2 \\land p_{5})) \\land (p2 \\rightarrow p_{5})) \n",
    "\\end{equation} \n",
    "\n",
    "Let D be the formula: \n",
    "\n",
    "\\begin{equation} \n",
    "  (\\neg (p_{3} \\rightarrow p_{6}))\n",
    "\\end{equation} \n",
    "\n",
    "Evaluate the formulate E: \n",
    "\\begin{equation} \n",
    "  (( A \\land (B \\land C)) \\rightarrow D)\n",
    "\\end{equation} \n",
    "\n",
    "under the true assignment $I_{1}$, where $I_{1}(p_{1}) = I_{1}(p_{3}) = I_{1}(p_{5}) = false$ \n",
    "and $I_{1}(p2) = I_{1}(p_{4}) = I_{1}(p_{6}) = true$ as well as under the truth assignment \n",
    "$I_{2}$, where $I_{2}(p_{1}) = I_{2}(p_{3}) = I_{2}(p_{5}) = true$ and\n",
    "$I_{2}(p_{2})=I_{2}(p_{4})=I_{2}(p_{6}) = false$. \n"
   ]
  },
  {
   "cell_type": "code",
   "execution_count": 178,
   "metadata": {},
   "outputs": [
    {
     "name": "stdout",
     "output_type": "stream",
     "text": [
      "=> & & => p1 & p2 p3 => ~p1 & p3 p4 & & => p3 ~p6 => ~p3 => p4 p1 & ~ & p2 p5 => p2 p5 ~ => p3 p6\n",
      "1\n",
      "1\n"
     ]
    }
   ],
   "source": [
    "A = '& => p1 & p2 p3 => ~p1 & p3 p4'\n",
    "B = '& => p3 ~p6 => ~p3 => p4 p1'\n",
    "C = '& ~ & p2 p5 => p2 p5'\n",
    "D = '~ => p3 p6'\n",
    "E = '=> & ' + A + ' & ' + B + ' ' + C + ' '+ D\n",
    "\n",
    "I1 = {'p3':0,'p1':0,'p5':0,'p2':1,'p4':1,'p6':1}\n",
    "I2 = {'p3':1,'p1':1,'p5':1,'p2':0,'p4':0,'p6':0}\n",
    "\n",
    "print(prefix_eval(E,I1))\n",
    "print(prefix_eval(E,I2))\n"
   ]
  },
  {
   "cell_type": "markdown",
   "metadata": {},
   "source": [
    "# QUESTION 1E (ADVANCED) 1 point \n",
    "\n",
    "Implement inference using model-checking using your prefix recursive evaluator to decide whether a knowledge base KB entais some sentence a. To do so express the knowledge base in the prefix notation, enumerate all models for the variables in the dictionary, and check that the sentence a is true in every model in which the KB is true. \n",
    "\n",
    "You can check the implementation to tt_entails in logic.ipynb in the aima_python repository to inform how you implement your solution. Your solution should NOT rely directly on any code in logic.py or logic.ipynb. \n",
    "\n",
    "Check your model checking using the examples that are used in logic.ipynb to check entailment (there are a few with P and Q as variables as well as the one with A, B, C, D, E, F, G. You will need to convert these examples to prefix notation. \n"
   ]
  },
  {
   "cell_type": "code",
   "execution_count": 179,
   "metadata": {
    "scrolled": true
   },
   "outputs": [
    {
     "name": "stdout",
     "output_type": "stream",
     "text": [
      "true\n",
      "false\n",
      "false\n",
      "true\n"
     ]
    }
   ],
   "source": [
    "from logic import*\n",
    "from utils import*\n",
    "\n",
    "       # 1. convert KB to prefix notation      \n",
    "       # 2. Create a dictionary for each possible model of variables in our KB\n",
    "       # 3. run prefix_eval(KB_prefix,model) for every model.\n",
    "       # 4. sentence is entailed if prefix_eval returns true for each model\n",
    "\n",
    "def kb_to_prefix(kb):\n",
    "    #takes a KB and returns a string of its prefix representation\n",
    "    #assumes KB is already single sentence\n",
    "    result = ''\n",
    "    if expr(kb).op is not Symbol:\n",
    "        result += kb.op + ' '\n",
    "        for arg in kb.args:        \n",
    "            result += kb_to_prefix(arg) + ' '\n",
    "    result = result[:-1]\n",
    "    return result\n",
    "    \n",
    "def all_models(KB):\n",
    "    #creates a list of all possible models given a knowledge base\n",
    "    #assumes alpha does not contain any symbols that KB does not\n",
    "    kb_symbols = prop_symbols(KB)\n",
    "    models=[{}]\n",
    "    for symbol in kb_symbols:\n",
    "        symbol=str(symbol)\n",
    "        for dictionary in models[::1]:\n",
    "            dictionary[symbol]=1\n",
    "            new_dictionary=dictionary.copy()\n",
    "            new_dictionary[symbol]=0\n",
    "            models.append(new_dictionary)\n",
    "    return models\n",
    "    \n",
    "    \n",
    "def entails(KB,alpha):\n",
    "    #convert kb to prefix\n",
    "    PrefixKB = kb_to_prefix(KB)\n",
    "    #generate a list of all models\n",
    "    allmodels = all_models(KB)\n",
    "    #find which models are true in our kb\n",
    "    models=[]\n",
    "    for model in allmodels:\n",
    "        if prefix_eval(PrefixKB,model)==1:\n",
    "            models.append(model)  \n",
    "    #if alpha is false in any above models, return false, else return true\n",
    "    for model in models:\n",
    "        if prefix_eval(kb_to_prefix(alpha),model)==0:\n",
    "            return 'false'\n",
    "    return 'true'\n",
    "          \n",
    "#testing\n",
    "(P, Q, A, B, C, D, E, F, G) = symbols('P, Q, A, B, C, D, E, F, G')\n",
    "#print(kb_to_prefix(A & D & E & ~F & ~G))\n",
    "print(entails(P & Q, Q))\n",
    "print(entails(P | Q, Q))\n",
    "print(entails(P | Q, P))\n",
    "print(entails(A & (B | C) & D & E & ~(F | G), A & D & E & ~F & ~G))"
   ]
  }
 ],
 "metadata": {
  "kernelspec": {
   "display_name": "Python 3",
   "language": "python",
   "name": "python3"
  },
  "language_info": {
   "codemirror_mode": {
    "name": "ipython",
    "version": 3
   },
   "file_extension": ".py",
   "mimetype": "text/x-python",
   "name": "python",
   "nbconvert_exporter": "python",
   "pygments_lexer": "ipython3",
   "version": "3.9.0"
  }
 },
 "nbformat": 4,
 "nbformat_minor": 1
}
